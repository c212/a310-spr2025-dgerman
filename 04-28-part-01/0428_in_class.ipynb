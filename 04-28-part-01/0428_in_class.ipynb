{
  "nbformat": 4,
  "nbformat_minor": 0,
  "metadata": {
    "colab": {
      "provenance": []
    },
    "kernelspec": {
      "name": "python3",
      "display_name": "Python 3"
    },
    "language_info": {
      "name": "python"
    }
  },
  "cells": [
    {
      "cell_type": "code",
      "execution_count": 71,
      "metadata": {
        "id": "USdIv9aDCK5A"
      },
      "outputs": [],
      "source": [
        "map_str = \"\"\"\n",
        "..X\n",
        ".X.\n",
        "X..\n",
        "\"\"\""
      ]
    },
    {
      "cell_type": "code",
      "source": [
        "map =  [list(row) for row in map_str.split('\\n') if row]\n",
        "start = (0, 0)\n",
        "goal = (len(map)-1, len(map[0]) - 1)\n",
        "movements = [(0,1),(0,-1),(1,0),(-1,0),(1,1),(-1,-1),(1,-1),(-1,1)]"
      ],
      "metadata": {
        "id": "s-w6ICIPC0my"
      },
      "execution_count": 72,
      "outputs": []
    },
    {
      "cell_type": "code",
      "source": [
        "import math\n",
        "\n",
        "def distance(point1, point2):\n",
        "  dx = point2[0] - point1[0]\n",
        "  dy = point2[1] - point1[1]\n",
        "  return math.sqrt(dx*dx + dy*dy)"
      ],
      "metadata": {
        "id": "SXZWNlH3EPah"
      },
      "execution_count": 73,
      "outputs": []
    },
    {
      "cell_type": "code",
      "source": [
        "distance((3,0), (0,4))"
      ],
      "metadata": {
        "colab": {
          "base_uri": "https://localhost:8080/"
        },
        "id": "ihqRHYltF_9_",
        "outputId": "4e550452-a841-4257-9d6f-a571addc92ce"
      },
      "execution_count": 74,
      "outputs": [
        {
          "output_type": "execute_result",
          "data": {
            "text/plain": [
              "5.0"
            ]
          },
          "metadata": {},
          "execution_count": 74
        }
      ]
    },
    {
      "cell_type": "code",
      "source": [
        "map"
      ],
      "metadata": {
        "colab": {
          "base_uri": "https://localhost:8080/"
        },
        "id": "tLGfKScvHiNF",
        "outputId": "a71b4caf-b77f-4964-8994-e131cb93e832"
      },
      "execution_count": 75,
      "outputs": [
        {
          "output_type": "execute_result",
          "data": {
            "text/plain": [
              "[['.', '.', 'X'], ['.', 'X', '.'], ['X', '.', '.']]"
            ]
          },
          "metadata": {},
          "execution_count": 75
        }
      ]
    },
    {
      "cell_type": "code",
      "source": [
        "def show(map, distances):\n",
        "  for row in range(len(map)):\n",
        "    for col in range(len(map[0])):\n",
        "      num = distances[row, col]\n",
        "      print (f\"{num:4.2f}\" + \" \", end=\" \")\n",
        "    print()"
      ],
      "metadata": {
        "id": "5gRE_g0THv26"
      },
      "execution_count": 76,
      "outputs": []
    },
    {
      "cell_type": "code",
      "source": [
        "def find_path(start, goal, map):\n",
        "  distances = {(i, j): float('inf') for i in range(len(map)) for j in range(len(map[0]))}\n",
        "  distances[start] = 0\n",
        "  prev = {}\n",
        "  pq = [(0, start)]\n",
        "\n",
        "  while pq:\n",
        "    dist, current = pq.pop(0)\n",
        "    if current == goal:\n",
        "      return \"I am done.\"\n",
        "    for dx, dy in movements:\n",
        "      x, y = current[0] + dx, current[1] + dy\n",
        "      if 0 <= x < len(map) and 0 <= y < len(map[0]):\n",
        "        if map[x][y] != 'X':\n",
        "          new_dist = dist + 1 if dx == 0 or dy == 0 else dist + math.sqrt(2)\n",
        "          if new_dist < distances[(x, y)]:\n",
        "            distances[(x, y)] = new_dist\n",
        "            prev[(x, y)] = current\n",
        "            pq.append((new_dist, (x, y)))\n",
        "            pq.sort()\n",
        "      print(\"---------------\")\n",
        "      # print(distances)\n",
        "      # print(pq)\n",
        "      show(map, distances)\n",
        "\n",
        "    return float('inf'), []\n"
      ],
      "metadata": {
        "id": "zQYYybetI3NV"
      },
      "execution_count": 77,
      "outputs": []
    },
    {
      "cell_type": "code",
      "source": [
        "find_path(start, goal, map)"
      ],
      "metadata": {
        "colab": {
          "base_uri": "https://localhost:8080/"
        },
        "id": "VP6leHeNKogv",
        "outputId": "ff8b21ec-8da6-4000-deb3-f6a12cf12927"
      },
      "execution_count": 78,
      "outputs": [
        {
          "output_type": "stream",
          "name": "stdout",
          "text": [
            "---------------\n",
            "0.00  1.00   inf  \n",
            " inf   inf   inf  \n",
            " inf   inf   inf  \n",
            "---------------\n",
            "0.00  1.00   inf  \n",
            " inf   inf   inf  \n",
            " inf   inf   inf  \n",
            "---------------\n",
            "0.00  1.00   inf  \n",
            "1.00   inf   inf  \n",
            " inf   inf   inf  \n",
            "---------------\n",
            "0.00  1.00   inf  \n",
            "1.00   inf   inf  \n",
            " inf   inf   inf  \n",
            "---------------\n",
            "0.00  1.00   inf  \n",
            "1.00   inf   inf  \n",
            " inf   inf   inf  \n",
            "---------------\n",
            "0.00  1.00   inf  \n",
            "1.00   inf   inf  \n",
            " inf   inf   inf  \n",
            "---------------\n",
            "0.00  1.00   inf  \n",
            "1.00   inf   inf  \n",
            " inf   inf   inf  \n",
            "---------------\n",
            "0.00  1.00   inf  \n",
            "1.00   inf   inf  \n",
            " inf   inf   inf  \n"
          ]
        },
        {
          "output_type": "execute_result",
          "data": {
            "text/plain": [
              "(inf, [])"
            ]
          },
          "metadata": {},
          "execution_count": 78
        }
      ]
    },
    {
      "cell_type": "code",
      "source": [
        "map"
      ],
      "metadata": {
        "colab": {
          "base_uri": "https://localhost:8080/"
        },
        "id": "IAS6uS_EKqt-",
        "outputId": "829c5120-7627-4189-cc83-f762f89916a7"
      },
      "execution_count": 45,
      "outputs": [
        {
          "output_type": "execute_result",
          "data": {
            "text/plain": [
              "[['.', 'X', '.'], ['.', '.', 'X'], ['.', 'X', '.']]"
            ]
          },
          "metadata": {},
          "execution_count": 45
        }
      ]
    },
    {
      "cell_type": "code",
      "source": [],
      "metadata": {
        "id": "g9muiAibKxc-"
      },
      "execution_count": null,
      "outputs": []
    }
  ]
}